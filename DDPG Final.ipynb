{
  "cells": [
    {
      "cell_type": "code",
      "execution_count": 2,
      "metadata": {
        "id": "TWVkfyg2dte7"
      },
      "outputs": [],
      "source": [
        "# LunarLanderContinuous DDPG (PyTorch)\n",
        "\n",
        "#DDPG implementation:\n",
        "#- Actor and Critic networks (fully-connected)\n",
        "#- Replay Buffer\n",
        "#- Ornstein-Uhlenbeck exploration noise\n",
        "#- Soft target updates\n",
        "#- Training loop + evaluation\n"
      ]
    },
    {
      "cell_type": "code",
      "execution_count": 8,
      "metadata": {
        "colab": {
          "base_uri": "https://localhost:8080/"
        },
        "id": "tjFd47HReyXh",
        "outputId": "7087bf0d-d039-4039-e00a-a0a1016fe8ce"
      },
      "outputs": [
        {
          "name": "stdout",
          "output_type": "stream",
          "text": [
            "Requirement already satisfied: gymnasium[box2d] in /usr/local/lib/python3.12/dist-packages (1.2.0)\n",
            "Requirement already satisfied: numpy>=1.21.0 in /usr/local/lib/python3.12/dist-packages (from gymnasium[box2d]) (2.0.2)\n",
            "Requirement already satisfied: cloudpickle>=1.2.0 in /usr/local/lib/python3.12/dist-packages (from gymnasium[box2d]) (3.1.1)\n",
            "Requirement already satisfied: typing-extensions>=4.3.0 in /usr/local/lib/python3.12/dist-packages (from gymnasium[box2d]) (4.15.0)\n",
            "Requirement already satisfied: farama-notifications>=0.0.1 in /usr/local/lib/python3.12/dist-packages (from gymnasium[box2d]) (0.0.4)\n",
            "Collecting box2d-py==2.3.5 (from gymnasium[box2d])\n",
            "  Using cached box2d-py-2.3.5.tar.gz (374 kB)\n",
            "  Preparing metadata (setup.py) ... \u001b[?25l\u001b[?25hdone\n",
            "Requirement already satisfied: pygame>=2.1.3 in /usr/local/lib/python3.12/dist-packages (from gymnasium[box2d]) (2.5.2)\n",
            "Collecting swig==4.* (from gymnasium[box2d])\n",
            "  Using cached swig-4.3.1.post0-py3-none-manylinux_2_12_x86_64.manylinux2010_x86_64.whl.metadata (3.5 kB)\n",
            "Using cached swig-4.3.1.post0-py3-none-manylinux_2_12_x86_64.manylinux2010_x86_64.whl (1.9 MB)\n",
            "Building wheels for collected packages: box2d-py\n",
            "  \u001b[1;31merror\u001b[0m: \u001b[1msubprocess-exited-with-error\u001b[0m\n",
            "  \n",
            "  \u001b[31m×\u001b[0m \u001b[32mpython setup.py bdist_wheel\u001b[0m did not run successfully.\n",
            "  \u001b[31m│\u001b[0m exit code: \u001b[1;36m1\u001b[0m\n",
            "  \u001b[31m╰─>\u001b[0m See above for output.\n",
            "  \n",
            "  \u001b[1;35mnote\u001b[0m: This error originates from a subprocess, and is likely not a problem with pip.\n",
            "  Building wheel for box2d-py (setup.py) ... \u001b[?25lerror\n",
            "\u001b[31m  ERROR: Failed building wheel for box2d-py\u001b[0m\u001b[31m\n",
            "\u001b[0m\u001b[?25h  Running setup.py clean for box2d-py\n",
            "Failed to build box2d-py\n",
            "\u001b[31mERROR: ERROR: Failed to build installable wheels for some pyproject.toml based projects (box2d-py)\u001b[0m\u001b[31m\n",
            "\u001b[0m"
          ]
        }
      ],
      "source": [
        "!pip install gymnasium[box2d]\n"
      ]
    },
    {
      "cell_type": "code",
      "execution_count": 10,
      "metadata": {
        "colab": {
          "base_uri": "https://localhost:8080/"
        },
        "id": "s8KhSc8DfdzM",
        "outputId": "8c43b7ec-2446-4800-dfc9-bd2d3be76da6"
      },
      "outputs": [
        {
          "name": "stdout",
          "output_type": "stream",
          "text": [
            "\u001b[33mWARNING: Skipping box2d-py as it is not installed.\u001b[0m\u001b[33m\n",
            "\u001b[0m\u001b[33mWARNING: Skipping Box2D as it is not installed.\u001b[0m\u001b[33m\n",
            "\u001b[0mCollecting box2d\n",
            "  Downloading Box2D-2.3.10-cp312-cp312-manylinux_2_17_x86_64.manylinux2014_x86_64.whl.metadata (573 bytes)\n",
            "Downloading Box2D-2.3.10-cp312-cp312-manylinux_2_17_x86_64.manylinux2014_x86_64.whl (3.7 MB)\n",
            "\u001b[2K   \u001b[90m━━━━━━━━━━━━━━━━━━━━━━━━━━━━━━━━━━━━━━━━\u001b[0m \u001b[32m3.7/3.7 MB\u001b[0m \u001b[31m49.7 MB/s\u001b[0m eta \u001b[36m0:00:00\u001b[0m\n",
            "\u001b[?25hInstalling collected packages: box2d\n",
            "Successfully installed box2d-2.3.10\n"
          ]
        }
      ],
      "source": [
        "!pip uninstall -y box2d-py Box2D\n",
        "!pip install box2d\n"
      ]
    },
    {
      "cell_type": "code",
      "execution_count": 12,
      "metadata": {
        "colab": {
          "base_uri": "https://localhost:8080/"
        },
        "id": "67vF9M5Afjqy",
        "outputId": "0e02ed9a-67f9-4a98-d5c5-c7f7d8e000db"
      },
      "outputs": [
        {
          "name": "stderr",
          "output_type": "stream",
          "text": [
            "<frozen importlib._bootstrap>:488: DeprecationWarning: builtin type SwigPyPacked has no __module__ attribute\n",
            "<frozen importlib._bootstrap>:488: DeprecationWarning: builtin type SwigPyObject has no __module__ attribute\n",
            "<frozen importlib._bootstrap>:488: DeprecationWarning: builtin type swigvarlink has no __module__ attribute\n",
            "/usr/local/lib/python3.12/dist-packages/pygame/pkgdata.py:25: DeprecationWarning: pkg_resources is deprecated as an API. See https://setuptools.pypa.io/en/latest/pkg_resources.html\n",
            "  from pkg_resources import resource_stream, resource_exists\n",
            "/usr/local/lib/python3.12/dist-packages/pkg_resources/__init__.py:3154: DeprecationWarning: Deprecated call to `pkg_resources.declare_namespace('google')`.\n",
            "Implementing implicit namespace packages (as specified in PEP 420) is preferred to `pkg_resources.declare_namespace`. See https://setuptools.pypa.io/en/latest/references/keywords.html#keyword-namespace-packages\n",
            "  declare_namespace(pkg)\n",
            "/usr/local/lib/python3.12/dist-packages/pkg_resources/__init__.py:3154: DeprecationWarning: Deprecated call to `pkg_resources.declare_namespace('google.cloud')`.\n",
            "Implementing implicit namespace packages (as specified in PEP 420) is preferred to `pkg_resources.declare_namespace`. See https://setuptools.pypa.io/en/latest/references/keywords.html#keyword-namespace-packages\n",
            "  declare_namespace(pkg)\n",
            "/usr/local/lib/python3.12/dist-packages/pkg_resources/__init__.py:3154: DeprecationWarning: Deprecated call to `pkg_resources.declare_namespace('sphinxcontrib')`.\n",
            "Implementing implicit namespace packages (as specified in PEP 420) is preferred to `pkg_resources.declare_namespace`. See https://setuptools.pypa.io/en/latest/references/keywords.html#keyword-namespace-packages\n",
            "  declare_namespace(pkg)\n",
            "/usr/local/lib/python3.12/dist-packages/jupyter_client/session.py:203: DeprecationWarning: datetime.datetime.utcnow() is deprecated and scheduled for removal in a future version. Use timezone-aware objects to represent datetimes in UTC: datetime.datetime.now(datetime.UTC).\n",
            "  return datetime.utcnow().replace(tzinfo=utc)\n"
          ]
        },
        {
          "name": "stdout",
          "output_type": "stream",
          "text": [
            "Observation: [ 0.00539331  1.4100337   0.54627657 -0.03940647 -0.00624279 -0.12373976\n",
            "  0.          0.        ]\n",
            "Action space: Box(-1.0, 1.0, (2,), float32)\n"
          ]
        }
      ],
      "source": [
        "import gymnasium as gym\n",
        "\n",
        "env = gym.make(\"LunarLanderContinuous-v3\", render_mode=\"human\")\n",
        "obs, info = env.reset()\n",
        "print(\"Observation:\", obs)\n",
        "print(\"Action space:\", env.action_space)\n"
      ]
    },
    {
      "cell_type": "code",
      "execution_count": 19,
      "metadata": {
        "colab": {
          "base_uri": "https://localhost:8080/"
        },
        "id": "8-YLnsz2gSL2",
        "outputId": "cae37dfe-1879-46a5-c4e2-67e2d55e6ef5"
      },
      "outputs": [
        {
          "name": "stdout",
          "output_type": "stream",
          "text": [
            "\u001b[33mWARNING: Skipping box2d-py as it is not installed.\u001b[0m\u001b[33m\n",
            "\u001b[0m\u001b[33mWARNING: Skipping box2d as it is not installed.\u001b[0m\u001b[33m\n",
            "\u001b[0m"
          ]
        }
      ],
      "source": [
        "!pip uninstall -y box2d-py Box2D box2d box2d\n"
      ]
    },
    {
      "cell_type": "code",
      "execution_count": 20,
      "metadata": {
        "colab": {
          "base_uri": "https://localhost:8080/"
        },
        "id": "x9g6bACMgzaE",
        "outputId": "3a0258ee-f8db-4c6d-825d-d04adf2f52c5"
      },
      "outputs": [
        {
          "name": "stdout",
          "output_type": "stream",
          "text": [
            "Collecting box2d\n",
            "  Using cached Box2D-2.3.10-cp312-cp312-manylinux_2_17_x86_64.manylinux2014_x86_64.whl.metadata (573 bytes)\n",
            "Using cached Box2D-2.3.10-cp312-cp312-manylinux_2_17_x86_64.manylinux2014_x86_64.whl (3.7 MB)\n",
            "Installing collected packages: box2d\n",
            "Successfully installed box2d-2.3.10\n"
          ]
        }
      ],
      "source": [
        "!pip install box2d\n"
      ]
    },
    {
      "cell_type": "code",
      "execution_count": 21,
      "metadata": {
        "colab": {
          "base_uri": "https://localhost:8080/"
        },
        "id": "EQCeyvWTg3GT",
        "outputId": "bc85763a-0518-4e08-f4d1-666bb9f2b6ce"
      },
      "outputs": [
        {
          "name": "stdout",
          "output_type": "stream",
          "text": [
            "Requirement already satisfied: gymnasium in /usr/local/lib/python3.12/dist-packages (1.2.0)\n",
            "Requirement already satisfied: numpy>=1.21.0 in /usr/local/lib/python3.12/dist-packages (from gymnasium) (2.0.2)\n",
            "Requirement already satisfied: cloudpickle>=1.2.0 in /usr/local/lib/python3.12/dist-packages (from gymnasium) (3.1.1)\n",
            "Requirement already satisfied: typing-extensions>=4.3.0 in /usr/local/lib/python3.12/dist-packages (from gymnasium) (4.15.0)\n",
            "Requirement already satisfied: farama-notifications>=0.0.1 in /usr/local/lib/python3.12/dist-packages (from gymnasium) (0.0.4)\n"
          ]
        }
      ],
      "source": [
        "!pip install gymnasium\n"
      ]
    },
    {
      "cell_type": "code",
      "execution_count": 22,
      "metadata": {
        "colab": {
          "base_uri": "https://localhost:8080/"
        },
        "id": "xVnm6Eb6g8IT",
        "outputId": "d10083ca-2160-46fe-c4b8-27db9eb246dc"
      },
      "outputs": [
        {
          "name": "stdout",
          "output_type": "stream",
          "text": [
            "Observation shape: (8,)\n"
          ]
        }
      ],
      "source": [
        "import gymnasium as gym\n",
        "\n",
        "env = gym.make(\"LunarLanderContinuous-v3\", render_mode=\"human\")\n",
        "obs, info = env.reset()\n",
        "print(\"Observation shape:\", obs.shape)\n",
        "\n",
        "done = False\n",
        "while not done:\n",
        "    action = env.action_space.sample()\n",
        "    obs, reward, terminated, truncated, info = env.step(action)\n",
        "    done = terminated or truncated\n",
        "env.close()\n"
      ]
    },
    {
      "cell_type": "code",
      "execution_count": 23,
      "metadata": {
        "colab": {
          "base_uri": "https://localhost:8080/"
        },
        "id": "ATnoMQCZf8nq",
        "outputId": "d933e04e-3d34-4274-d7d0-76060c333528"
      },
      "outputs": [
        {
          "name": "stdout",
          "output_type": "stream",
          "text": [
            "Requirement already satisfied: torch in /usr/local/lib/python3.12/dist-packages (2.8.0+cu126)\n",
            "Requirement already satisfied: torchvision in /usr/local/lib/python3.12/dist-packages (0.23.0+cu126)\n",
            "Requirement already satisfied: numpy in /usr/local/lib/python3.12/dist-packages (2.0.2)\n",
            "Requirement already satisfied: matplotlib in /usr/local/lib/python3.12/dist-packages (3.10.0)\n",
            "Requirement already satisfied: gymnasium[box2d] in /usr/local/lib/python3.12/dist-packages (1.2.0)\n",
            "Requirement already satisfied: cloudpickle>=1.2.0 in /usr/local/lib/python3.12/dist-packages (from gymnasium[box2d]) (3.1.1)\n",
            "Requirement already satisfied: typing-extensions>=4.3.0 in /usr/local/lib/python3.12/dist-packages (from gymnasium[box2d]) (4.15.0)\n",
            "Requirement already satisfied: farama-notifications>=0.0.1 in /usr/local/lib/python3.12/dist-packages (from gymnasium[box2d]) (0.0.4)\n",
            "Collecting box2d-py==2.3.5 (from gymnasium[box2d])\n",
            "  Using cached box2d-py-2.3.5.tar.gz (374 kB)\n",
            "  Preparing metadata (setup.py) ... \u001b[?25l\u001b[?25hdone\n",
            "Requirement already satisfied: pygame>=2.1.3 in /usr/local/lib/python3.12/dist-packages (from gymnasium[box2d]) (2.5.2)\n",
            "Collecting swig==4.* (from gymnasium[box2d])\n",
            "  Using cached swig-4.3.1.post0-py3-none-manylinux_2_12_x86_64.manylinux2010_x86_64.whl.metadata (3.5 kB)\n",
            "Requirement already satisfied: filelock in /usr/local/lib/python3.12/dist-packages (from torch) (3.19.1)\n",
            "Requirement already satisfied: setuptools in /usr/local/lib/python3.12/dist-packages (from torch) (75.2.0)\n",
            "Requirement already satisfied: sympy>=1.13.3 in /usr/local/lib/python3.12/dist-packages (from torch) (1.13.3)\n",
            "Requirement already satisfied: networkx in /usr/local/lib/python3.12/dist-packages (from torch) (3.5)\n",
            "Requirement already satisfied: jinja2 in /usr/local/lib/python3.12/dist-packages (from torch) (3.1.6)\n",
            "Requirement already satisfied: fsspec in /usr/local/lib/python3.12/dist-packages (from torch) (2025.3.0)\n",
            "Requirement already satisfied: nvidia-cuda-nvrtc-cu12==12.6.77 in /usr/local/lib/python3.12/dist-packages (from torch) (12.6.77)\n",
            "Requirement already satisfied: nvidia-cuda-runtime-cu12==12.6.77 in /usr/local/lib/python3.12/dist-packages (from torch) (12.6.77)\n",
            "Requirement already satisfied: nvidia-cuda-cupti-cu12==12.6.80 in /usr/local/lib/python3.12/dist-packages (from torch) (12.6.80)\n",
            "Requirement already satisfied: nvidia-cudnn-cu12==9.10.2.21 in /usr/local/lib/python3.12/dist-packages (from torch) (9.10.2.21)\n",
            "Requirement already satisfied: nvidia-cublas-cu12==12.6.4.1 in /usr/local/lib/python3.12/dist-packages (from torch) (12.6.4.1)\n",
            "Requirement already satisfied: nvidia-cufft-cu12==11.3.0.4 in /usr/local/lib/python3.12/dist-packages (from torch) (11.3.0.4)\n",
            "Requirement already satisfied: nvidia-curand-cu12==10.3.7.77 in /usr/local/lib/python3.12/dist-packages (from torch) (10.3.7.77)\n",
            "Requirement already satisfied: nvidia-cusolver-cu12==11.7.1.2 in /usr/local/lib/python3.12/dist-packages (from torch) (11.7.1.2)\n",
            "Requirement already satisfied: nvidia-cusparse-cu12==12.5.4.2 in /usr/local/lib/python3.12/dist-packages (from torch) (12.5.4.2)\n",
            "Requirement already satisfied: nvidia-cusparselt-cu12==0.7.1 in /usr/local/lib/python3.12/dist-packages (from torch) (0.7.1)\n",
            "Requirement already satisfied: nvidia-nccl-cu12==2.27.3 in /usr/local/lib/python3.12/dist-packages (from torch) (2.27.3)\n",
            "Requirement already satisfied: nvidia-nvtx-cu12==12.6.77 in /usr/local/lib/python3.12/dist-packages (from torch) (12.6.77)\n",
            "Requirement already satisfied: nvidia-nvjitlink-cu12==12.6.85 in /usr/local/lib/python3.12/dist-packages (from torch) (12.6.85)\n",
            "Requirement already satisfied: nvidia-cufile-cu12==1.11.1.6 in /usr/local/lib/python3.12/dist-packages (from torch) (1.11.1.6)\n",
            "Requirement already satisfied: triton==3.4.0 in /usr/local/lib/python3.12/dist-packages (from torch) (3.4.0)\n",
            "Requirement already satisfied: pillow!=8.3.*,>=5.3.0 in /usr/local/lib/python3.12/dist-packages (from torchvision) (11.3.0)\n",
            "Requirement already satisfied: contourpy>=1.0.1 in /usr/local/lib/python3.12/dist-packages (from matplotlib) (1.3.3)\n",
            "Requirement already satisfied: cycler>=0.10 in /usr/local/lib/python3.12/dist-packages (from matplotlib) (0.12.1)\n",
            "Requirement already satisfied: fonttools>=4.22.0 in /usr/local/lib/python3.12/dist-packages (from matplotlib) (4.59.2)\n",
            "Requirement already satisfied: kiwisolver>=1.3.1 in /usr/local/lib/python3.12/dist-packages (from matplotlib) (1.4.9)\n",
            "Requirement already satisfied: packaging>=20.0 in /usr/local/lib/python3.12/dist-packages (from matplotlib) (25.0)\n",
            "Requirement already satisfied: pyparsing>=2.3.1 in /usr/local/lib/python3.12/dist-packages (from matplotlib) (3.2.3)\n",
            "Requirement already satisfied: python-dateutil>=2.7 in /usr/local/lib/python3.12/dist-packages (from matplotlib) (2.9.0.post0)\n",
            "Requirement already satisfied: six>=1.5 in /usr/local/lib/python3.12/dist-packages (from python-dateutil>=2.7->matplotlib) (1.17.0)\n",
            "Requirement already satisfied: mpmath<1.4,>=1.1.0 in /usr/local/lib/python3.12/dist-packages (from sympy>=1.13.3->torch) (1.3.0)\n",
            "Requirement already satisfied: MarkupSafe>=2.0 in /usr/local/lib/python3.12/dist-packages (from jinja2->torch) (3.0.2)\n",
            "Using cached swig-4.3.1.post0-py3-none-manylinux_2_12_x86_64.manylinux2010_x86_64.whl (1.9 MB)\n",
            "Building wheels for collected packages: box2d-py\n",
            "  \u001b[1;31merror\u001b[0m: \u001b[1msubprocess-exited-with-error\u001b[0m\n",
            "  \n",
            "  \u001b[31m×\u001b[0m \u001b[32mpython setup.py bdist_wheel\u001b[0m did not run successfully.\n",
            "  \u001b[31m│\u001b[0m exit code: \u001b[1;36m1\u001b[0m\n",
            "  \u001b[31m╰─>\u001b[0m See above for output.\n",
            "  \n",
            "  \u001b[1;35mnote\u001b[0m: This error originates from a subprocess, and is likely not a problem with pip.\n",
            "  Building wheel for box2d-py (setup.py) ... \u001b[?25lerror\n",
            "\u001b[31m  ERROR: Failed building wheel for box2d-py\u001b[0m\u001b[31m\n",
            "\u001b[0m\u001b[?25h  Running setup.py clean for box2d-py\n",
            "Failed to build box2d-py\n",
            "\u001b[31mERROR: ERROR: Failed to build installable wheels for some pyproject.toml based projects (box2d-py)\u001b[0m\u001b[31m\n",
            "\u001b[0m"
          ]
        }
      ],
      "source": [
        "!pip install gymnasium[box2d] torch torchvision numpy matplotlib\n"
      ]
    },
    {
      "cell_type": "code",
      "execution_count": 4,
      "metadata": {
        "colab": {
          "base_uri": "https://localhost:8080/"
        },
        "id": "X_c_GTnkeZuK",
        "outputId": "d44fa2a9-ab99-466a-a79f-88364537c455"
      },
      "outputs": [
        {
          "name": "stderr",
          "output_type": "stream",
          "text": [
            "Gym has been unmaintained since 2022 and does not support NumPy 2.0 amongst other critical functionality.\n",
            "Please upgrade to Gymnasium, the maintained drop-in replacement of Gym, or contact the authors of your software and request that they upgrade.\n",
            "See the migration guide at https://gymnasium.farama.org/introduction/migration_guide/ for additional information.\n",
            "/usr/local/lib/python3.12/dist-packages/jupyter_client/session.py:203: DeprecationWarning: datetime.datetime.utcnow() is deprecated and scheduled for removal in a future version. Use timezone-aware objects to represent datetimes in UTC: datetime.datetime.now(datetime.UTC).\n",
            "  return datetime.utcnow().replace(tzinfo=utc)\n",
            "/usr/local/lib/python3.12/dist-packages/jupyter_client/session.py:203: DeprecationWarning: datetime.datetime.utcnow() is deprecated and scheduled for removal in a future version. Use timezone-aware objects to represent datetimes in UTC: datetime.datetime.now(datetime.UTC).\n",
            "  return datetime.utcnow().replace(tzinfo=utc)\n"
          ]
        }
      ],
      "source": [
        "import gym\n",
        "import math\n",
        "import random\n",
        "import numpy as np\n",
        "from collections import deque\n",
        "import matplotlib.pyplot as plt\n",
        "import torch\n",
        "import torch.nn as nn\n",
        "import torch.optim as optim\n",
        "from copy import deepcopy\n"
      ]
    },
    {
      "cell_type": "code",
      "execution_count": 24,
      "metadata": {
        "colab": {
          "base_uri": "https://localhost:8080/"
        },
        "id": "Su9crnDGhGia",
        "outputId": "d9a86141-7932-4c58-efe9-9c29cbf7bf24"
      },
      "outputs": [
        {
          "name": "stdout",
          "output_type": "stream",
          "text": [
            "Requirement already satisfied: pip in /usr/local/lib/python3.12/dist-packages (24.1.2)\n",
            "Collecting pip\n",
            "  Downloading pip-25.2-py3-none-any.whl.metadata (4.7 kB)\n",
            "Downloading pip-25.2-py3-none-any.whl (1.8 MB)\n",
            "\u001b[2K   \u001b[90m━━━━━━━━━━━━━━━━━━━━━━━━━━━━━━━━━━━━━━━━\u001b[0m \u001b[32m1.8/1.8 MB\u001b[0m \u001b[31m27.7 MB/s\u001b[0m eta \u001b[36m0:00:00\u001b[0m\n",
            "\u001b[?25hInstalling collected packages: pip\n",
            "  Attempting uninstall: pip\n",
            "    Found existing installation: pip 24.1.2\n",
            "    Uninstalling pip-24.1.2:\n",
            "      Successfully uninstalled pip-24.1.2\n",
            "Successfully installed pip-25.2\n",
            "Requirement already satisfied: box2d in /usr/local/lib/python3.12/dist-packages (2.3.10)\n",
            "Requirement already satisfied: gymnasium in /usr/local/lib/python3.12/dist-packages (1.2.0)\n",
            "Requirement already satisfied: torch in /usr/local/lib/python3.12/dist-packages (2.8.0+cu126)\n",
            "Requirement already satisfied: torchvision in /usr/local/lib/python3.12/dist-packages (0.23.0+cu126)\n",
            "Requirement already satisfied: numpy in /usr/local/lib/python3.12/dist-packages (2.0.2)\n",
            "Requirement already satisfied: matplotlib in /usr/local/lib/python3.12/dist-packages (3.10.0)\n",
            "Requirement already satisfied: imageio in /usr/local/lib/python3.12/dist-packages (2.37.0)\n",
            "Requirement already satisfied: cloudpickle>=1.2.0 in /usr/local/lib/python3.12/dist-packages (from gymnasium) (3.1.1)\n",
            "Requirement already satisfied: typing-extensions>=4.3.0 in /usr/local/lib/python3.12/dist-packages (from gymnasium) (4.15.0)\n",
            "Requirement already satisfied: farama-notifications>=0.0.1 in /usr/local/lib/python3.12/dist-packages (from gymnasium) (0.0.4)\n",
            "Requirement already satisfied: filelock in /usr/local/lib/python3.12/dist-packages (from torch) (3.19.1)\n",
            "Requirement already satisfied: setuptools in /usr/local/lib/python3.12/dist-packages (from torch) (75.2.0)\n",
            "Requirement already satisfied: sympy>=1.13.3 in /usr/local/lib/python3.12/dist-packages (from torch) (1.13.3)\n",
            "Requirement already satisfied: networkx in /usr/local/lib/python3.12/dist-packages (from torch) (3.5)\n",
            "Requirement already satisfied: jinja2 in /usr/local/lib/python3.12/dist-packages (from torch) (3.1.6)\n",
            "Requirement already satisfied: fsspec in /usr/local/lib/python3.12/dist-packages (from torch) (2025.3.0)\n",
            "Requirement already satisfied: nvidia-cuda-nvrtc-cu12==12.6.77 in /usr/local/lib/python3.12/dist-packages (from torch) (12.6.77)\n",
            "Requirement already satisfied: nvidia-cuda-runtime-cu12==12.6.77 in /usr/local/lib/python3.12/dist-packages (from torch) (12.6.77)\n",
            "Requirement already satisfied: nvidia-cuda-cupti-cu12==12.6.80 in /usr/local/lib/python3.12/dist-packages (from torch) (12.6.80)\n",
            "Requirement already satisfied: nvidia-cudnn-cu12==9.10.2.21 in /usr/local/lib/python3.12/dist-packages (from torch) (9.10.2.21)\n",
            "Requirement already satisfied: nvidia-cublas-cu12==12.6.4.1 in /usr/local/lib/python3.12/dist-packages (from torch) (12.6.4.1)\n",
            "Requirement already satisfied: nvidia-cufft-cu12==11.3.0.4 in /usr/local/lib/python3.12/dist-packages (from torch) (11.3.0.4)\n",
            "Requirement already satisfied: nvidia-curand-cu12==10.3.7.77 in /usr/local/lib/python3.12/dist-packages (from torch) (10.3.7.77)\n",
            "Requirement already satisfied: nvidia-cusolver-cu12==11.7.1.2 in /usr/local/lib/python3.12/dist-packages (from torch) (11.7.1.2)\n",
            "Requirement already satisfied: nvidia-cusparse-cu12==12.5.4.2 in /usr/local/lib/python3.12/dist-packages (from torch) (12.5.4.2)\n",
            "Requirement already satisfied: nvidia-cusparselt-cu12==0.7.1 in /usr/local/lib/python3.12/dist-packages (from torch) (0.7.1)\n",
            "Requirement already satisfied: nvidia-nccl-cu12==2.27.3 in /usr/local/lib/python3.12/dist-packages (from torch) (2.27.3)\n",
            "Requirement already satisfied: nvidia-nvtx-cu12==12.6.77 in /usr/local/lib/python3.12/dist-packages (from torch) (12.6.77)\n",
            "Requirement already satisfied: nvidia-nvjitlink-cu12==12.6.85 in /usr/local/lib/python3.12/dist-packages (from torch) (12.6.85)\n",
            "Requirement already satisfied: nvidia-cufile-cu12==1.11.1.6 in /usr/local/lib/python3.12/dist-packages (from torch) (1.11.1.6)\n",
            "Requirement already satisfied: triton==3.4.0 in /usr/local/lib/python3.12/dist-packages (from torch) (3.4.0)\n",
            "Requirement already satisfied: pillow!=8.3.*,>=5.3.0 in /usr/local/lib/python3.12/dist-packages (from torchvision) (11.3.0)\n",
            "Requirement already satisfied: contourpy>=1.0.1 in /usr/local/lib/python3.12/dist-packages (from matplotlib) (1.3.3)\n",
            "Requirement already satisfied: cycler>=0.10 in /usr/local/lib/python3.12/dist-packages (from matplotlib) (0.12.1)\n",
            "Requirement already satisfied: fonttools>=4.22.0 in /usr/local/lib/python3.12/dist-packages (from matplotlib) (4.59.2)\n",
            "Requirement already satisfied: kiwisolver>=1.3.1 in /usr/local/lib/python3.12/dist-packages (from matplotlib) (1.4.9)\n",
            "Requirement already satisfied: packaging>=20.0 in /usr/local/lib/python3.12/dist-packages (from matplotlib) (25.0)\n",
            "Requirement already satisfied: pyparsing>=2.3.1 in /usr/local/lib/python3.12/dist-packages (from matplotlib) (3.2.3)\n",
            "Requirement already satisfied: python-dateutil>=2.7 in /usr/local/lib/python3.12/dist-packages (from matplotlib) (2.9.0.post0)\n",
            "Requirement already satisfied: six>=1.5 in /usr/local/lib/python3.12/dist-packages (from python-dateutil>=2.7->matplotlib) (1.17.0)\n",
            "Requirement already satisfied: mpmath<1.4,>=1.1.0 in /usr/local/lib/python3.12/dist-packages (from sympy>=1.13.3->torch) (1.3.0)\n",
            "Requirement already satisfied: MarkupSafe>=2.0 in /usr/local/lib/python3.12/dist-packages (from jinja2->torch) (3.0.2)\n"
          ]
        }
      ],
      "source": [
        "# Run this cell once at the top of the notebook\n",
        "# (If you're on Colab, use these; on local, run in your env/conda prompt instead of notebook if you prefer.)\n",
        "!pip install --upgrade pip\n",
        "!pip install box2d gymnasium torch torchvision numpy matplotlib imageio\n"
      ]
    },
    {
      "cell_type": "code",
      "execution_count": 25,
      "metadata": {
        "colab": {
          "base_uri": "https://localhost:8080/"
        },
        "id": "KVym2aLuiFB8",
        "outputId": "8a73fec9-0c7e-4561-f8f8-4ed1c56a6a6a"
      },
      "outputs": [
        {
          "name": "stdout",
          "output_type": "stream",
          "text": [
            "Device: cpu\n"
          ]
        }
      ],
      "source": [
        "import gymnasium as gym\n",
        "import numpy as np\n",
        "import torch\n",
        "import torch.nn as nn\n",
        "import torch.optim as optim\n",
        "import random\n",
        "from collections import deque\n",
        "import matplotlib.pyplot as plt\n",
        "import imageio   # for saving GIFs (Colab)\n",
        "import os\n",
        "from copy import deepcopy\n",
        "\n",
        "device = torch.device(\"cuda\" if torch.cuda.is_available() else \"cpu\")\n",
        "print(\"Device:\", device)\n"
      ]
    },
    {
      "cell_type": "code",
      "execution_count": 26,
      "metadata": {
        "id": "kuKvcLmeiH4M"
      },
      "outputs": [],
      "source": [
        "# optional reproducibility\n",
        "SEED = 42\n",
        "random.seed(SEED)\n",
        "np.random.seed(SEED)\n",
        "torch.manual_seed(SEED)\n",
        "\n",
        "# Simple normalizer for states (helps some algorithms)\n",
        "class RunningStat:\n",
        "    def __init__(self, shape):\n",
        "        self._n = 0\n",
        "        self._M = np.zeros(shape, dtype=np.float64)\n",
        "        self._S = np.zeros(shape, dtype=np.float64)\n",
        "    def push(self, x):\n",
        "        x = np.asarray(x)\n",
        "        if self._n == 0:\n",
        "            self._M[...] = x\n",
        "        else:\n",
        "            oldM = self._M.copy()\n",
        "            self._M[...] = oldM + (x - oldM) / (self._n+1)\n",
        "            self._S[...] = self._S + (x - oldM) * (x - self._M)\n",
        "        self._n += 1\n",
        "    def mean(self):\n",
        "        return self._M\n",
        "    def var(self):\n",
        "        return (self._S / (self._n - 1)) if self._n > 1 else np.square(self._M)\n",
        "    def std(self):\n",
        "        return np.sqrt(self.var())\n",
        "\n",
        "def normalize_state(s, stat: RunningStat):\n",
        "    if stat._n > 1:\n",
        "        return (s - stat.mean()) / (stat.std() + 1e-8)\n",
        "    else:\n",
        "        return s\n"
      ]
    },
    {
      "cell_type": "code",
      "execution_count": 27,
      "metadata": {
        "id": "zgbeRrCAiKkq"
      },
      "outputs": [],
      "source": [
        "class Actor(nn.Module):\n",
        "    def __init__(self, state_dim, action_dim, action_limit):\n",
        "        super().__init__()\n",
        "        self.net = nn.Sequential(\n",
        "            nn.Linear(state_dim, 400),\n",
        "            nn.ReLU(),\n",
        "            nn.Linear(400, 300),\n",
        "            nn.ReLU(),\n",
        "            nn.Linear(300, action_dim),\n",
        "            nn.Tanh()\n",
        "        )\n",
        "        self.action_limit = action_limit\n",
        "\n",
        "    def forward(self, s):\n",
        "        return self.net(s) * self.action_limit\n",
        "\n",
        "\n",
        "class Critic(nn.Module):\n",
        "    def __init__(self, state_dim, action_dim):\n",
        "        super().__init__()\n",
        "        # concat state and action\n",
        "        self.net = nn.Sequential(\n",
        "            nn.Linear(state_dim + action_dim, 400),\n",
        "            nn.ReLU(),\n",
        "            nn.Linear(400, 300),\n",
        "            nn.ReLU(),\n",
        "            nn.Linear(300, 1)\n",
        "        )\n",
        "\n",
        "    def forward(self, s, a):\n",
        "        x = torch.cat([s, a], dim=1)\n",
        "        return self.net(x)\n"
      ]
    },
    {
      "cell_type": "code",
      "execution_count": 51,
      "metadata": {
        "id": "I4VrCd1uiMmE"
      },
      "outputs": [],
      "source": [
        "class ReplayBuffer:\n",
        "    def __init__(self, capacity=1000000):\n",
        "        self.capacity = capacity\n",
        "        self.buffer = []\n",
        "        self.position = 0\n",
        "\n",
        "    def push(self, state, action, reward, next_state, done):\n",
        "        if len(self.buffer) < self.capacity:\n",
        "            self.buffer.append(None)\n",
        "        self.buffer[self.position] = (state, action, reward, next_state, done)\n",
        "        self.position = (self.position + 1) % self.capacity\n",
        "\n",
        "    def sample(self, batch_size):\n",
        "        import random\n",
        "        batch = random.sample(self.buffer, batch_size)\n",
        "        state, action, reward, next_state, done = map(np.stack, zip(*batch))\n",
        "        return state, action, reward, next_state, done\n",
        "\n",
        "    def __len__(self):\n",
        "        return len(self.buffer)\n",
        "\n",
        "\n",
        "class OUNoise:\n",
        "    def __init__(self, dim, mu=0.0, theta=0.15, sigma=0.2):\n",
        "        self.dim = dim\n",
        "        self.mu = mu * np.ones(dim)\n",
        "        self.theta = theta\n",
        "        self.sigma = sigma\n",
        "        self.reset()\n",
        "    def reset(self):\n",
        "        self.state = self.mu.copy()\n",
        "    def sample(self):\n",
        "        dx = self.theta * (self.mu - self.state) + self.sigma * np.random.randn(self.dim)\n",
        "        self.state = self.state + dx\n",
        "        return self.state\n"
      ]
    },
    {
      "cell_type": "code",
      "execution_count": 52,
      "metadata": {
        "id": "dqwBsQyIiPMj"
      },
      "outputs": [],
      "source": [
        "class DDPG:\n",
        "    def __init__(self, state_dim, action_dim, action_limit, device=\"cpu\",\n",
        "                 actor_lr=1e-4, critic_lr=1e-3, gamma=0.99, tau=0.005):\n",
        "        self.device = torch.device(device)\n",
        "        self.gamma = gamma\n",
        "        self.tau = tau\n",
        "\n",
        "        self.actor = Actor(state_dim, action_dim, action_limit).to(self.device)\n",
        "        self.actor_target = deepcopy(self.actor).to(self.device)\n",
        "\n",
        "        self.critic = Critic(state_dim, action_dim).to(self.device)\n",
        "        self.critic_target = deepcopy(self.critic).to(self.device)\n",
        "\n",
        "        self.actor_opt = optim.Adam(self.actor.parameters(), lr=actor_lr)\n",
        "        self.critic_opt = optim.Adam(self.critic.parameters(), lr=critic_lr)\n",
        "\n",
        "        self.action_limit = action_limit\n",
        "        self.replay_buffer = ReplayBuffer(capacity=1000000)\n",
        "\n",
        "\n",
        "    def select_action(self, state, noise=None):\n",
        "      state_tensor = torch.FloatTensor(state).unsqueeze(0).to(self.device)\n",
        "      self.actor.eval()\n",
        "      with torch.no_grad():\n",
        "          action = self.actor(state_tensor).cpu().numpy()[0]\n",
        "      self.actor.train()\n",
        "\n",
        "      if noise is not None:  # ✅ fix: only check if noise is provided\n",
        "          action = action + noise\n",
        "\n",
        "      return np.clip(action, -self.action_limit, self.action_limit)\n",
        "\n",
        "\n",
        "    def update(self, batch, batch_size):\n",
        "        states, actions, rewards, next_states, dones = batch\n",
        "        states = torch.FloatTensor(states).to(self.device)\n",
        "        actions = torch.FloatTensor(actions).to(self.device)\n",
        "        rewards = torch.FloatTensor(rewards).to(self.device)\n",
        "        next_states = torch.FloatTensor(next_states).to(self.device)\n",
        "        dones = torch.FloatTensor(dones).to(self.device)\n",
        "\n",
        "        # Critic update\n",
        "        with torch.no_grad():\n",
        "            next_actions = self.actor_target(next_states)\n",
        "            q_next = self.critic_target(next_states, next_actions)\n",
        "            q_target = rewards + self.gamma * (1.0 - dones) * q_next\n",
        "\n",
        "        q_val = self.critic(states, actions)\n",
        "        critic_loss = nn.MSELoss()(q_val, q_target)\n",
        "\n",
        "        self.critic_opt.zero_grad()\n",
        "        critic_loss.backward()\n",
        "        self.critic_opt.step()\n",
        "\n",
        "        # Actor update\n",
        "        actor_loss = -self.critic(states, self.actor(states)).mean()\n",
        "        self.actor_opt.zero_grad()\n",
        "        actor_loss.backward()\n",
        "        self.actor_opt.step()\n",
        "\n",
        "        # Soft update targets\n",
        "        self.soft_update(self.critic, self.critic_target)\n",
        "        self.soft_update(self.actor, self.actor_target)\n",
        "\n",
        "        return critic_loss.item(), actor_loss.item()\n",
        "\n",
        "    def soft_update(self, net, net_target):\n",
        "        for p, p_target in zip(net.parameters(), net_target.parameters()):\n",
        "            p_target.data.copy_(self.tau * p.data + (1.0 - self.tau) * p_target.data)\n",
        "\n",
        "    def save(self, prefix=\"ddpg\"):\n",
        "        torch.save(self.actor.state_dict(), f\"{prefix}_actor.pth\")\n",
        "        torch.save(self.critic.state_dict(), f\"{prefix}_critic.pth\")\n",
        "\n",
        "    def load(self, prefix=\"ddpg\"):\n",
        "        self.actor.load_state_dict(torch.load(f\"{prefix}_actor.pth\", map_location=self.device))\n",
        "        self.critic.load_state_dict(torch.load(f\"{prefix}_critic.pth\", map_location=self.device))\n",
        "        self.actor_target.load_state_dict(self.actor.state_dict())\n",
        "        self.critic_target.load_state_dict(self.critic.state_dict())\n"
      ]
    },
    {
      "cell_type": "code",
      "execution_count": 41,
      "metadata": {
        "colab": {
          "base_uri": "https://localhost:8080/"
        },
        "id": "SNaYRa7WiRtr",
        "outputId": "c49744ea-227c-4ac3-bf7b-07e62dcc4a6d"
      },
      "outputs": [
        {
          "name": "stdout",
          "output_type": "stream",
          "text": [
            "state_dim, action_dim, action_limit: 8 2 1.0\n"
          ]
        }
      ],
      "source": [
        "# Environment and hyperparams\n",
        "env_name = \"LunarLanderContinuous-v3\"\n",
        "env = gym.make(env_name)   # no render_mode here for training; for eval use render_mode\n",
        "state, _ = env.reset()\n",
        "state_dim = env.observation_space.shape[0]\n",
        "action_dim = env.action_space.shape[0]\n",
        "action_limit = float(env.action_space.high[0])  # symmetric\n",
        "\n",
        "print(\"state_dim, action_dim, action_limit:\", state_dim, action_dim, action_limit)\n",
        "\n",
        "agent = DDPG(state_dim, action_dim, action_limit, device=device)\n",
        "replay = ReplayBuffer(maxlen=200000)\n",
        "ou_noise = OUNoise(action_dim, mu=0.0, theta=0.15, sigma=0.2)\n",
        "\n",
        "# training hyperparams\n",
        "episodes = 2000  # instead of 200\n",
        "max_steps = 1000\n",
        "batch_size = 128\n",
        "warmup = 2000   # fill buffer with random actions\n",
        "stat = RunningStat(state_dim)  # if you want to normalize states\n",
        "save_dir = \"./ddpg_models\"\n",
        "os.makedirs(save_dir, exist_ok=True)\n"
      ]
    },
    {
      "cell_type": "code",
      "execution_count": 43,
      "metadata": {
        "colab": {
          "base_uri": "https://localhost:8080/",
          "height": 410
        },
        "id": "VbIeWpyVlqKb",
        "outputId": "7042c049-07f2-4938-92fc-6349d6a729ed"
      },
      "outputs": [
        {
          "data": {
            "image/png": "[encoded data removed]",
            "text/plain": [
              "<Figure size 800x400 with 1 Axes>"
            ]
          },
          "metadata": {},
          "output_type": "display_data"
        }
      ],
      "source": [
        "plt.figure(figsize=(8,4))\n",
        "plt.plot(returns, label=\"ep return\")\n",
        "plt.plot(np.convolve(returns, np.ones(20)/20, mode='valid'), label=\"rolling20\")\n",
        "plt.xlabel(\"Episode\")\n",
        "plt.ylabel(\"Return\")\n",
        "plt.legend()\n",
        "plt.title(\"DDPG Training Returns\")\n",
        "plt.show()\n"
      ]
    },
    {
      "cell_type": "code",
      "execution_count": 44,
      "metadata": {
        "colab": {
          "base_uri": "https://localhost:8080/"
        },
        "id": "M5NvyJK-l2Jq",
        "outputId": "868e4ea2-dbe6-4f29-f518-39e48f56a4c8"
      },
      "outputs": [
        {
          "name": "stdout",
          "output_type": "stream",
          "text": [
            "Eval return: -521.8590065651526\n",
            "Eval return: -488.53230764810905\n",
            "Eval return: -582.212760377188\n"
          ]
        }
      ],
      "source": [
        "# load best model if saved\n",
        "agent.load(os.path.join(save_dir, \"best_ddpg\"))\n",
        "\n",
        "env_eval = gym.make(env_name, render_mode=\"human\")\n",
        "for ep in range(3):\n",
        "    s, _ = env_eval.reset()\n",
        "    done = False\n",
        "    tot = 0.0\n",
        "    while not done:\n",
        "        a = agent.select_action(s, noise=0.0)  # no exploration\n",
        "        s, r, terminated, truncated, info = env_eval.step(a)\n",
        "        done = terminated or truncated\n",
        "        tot += r\n",
        "    print(\"Eval return:\", tot)\n",
        "env_eval.close()\n"
      ]
    },
    {
      "cell_type": "code",
      "execution_count": 45,
      "metadata": {
        "colab": {
          "base_uri": "https://localhost:8080/"
        },
        "id": "T9b2hk1umAzt",
        "outputId": "4055470e-b269-422c-d102-cae49cf8870e"
      },
      "outputs": [
        {
          "name": "stdout",
          "output_type": "stream",
          "text": [
            "Eval return: -580.4666382170865\n",
            "Saved GIF to ddpg_eval.gif\n"
          ]
        }
      ],
      "source": [
        "agent.load(os.path.join(save_dir, \"best_ddpg\"))\n",
        "\n",
        "env_eval = gym.make(env_name, render_mode=\"rgb_array\")\n",
        "frames = []\n",
        "s, _ = env_eval.reset()\n",
        "done = False\n",
        "tot = 0.0\n",
        "while not done:\n",
        "    a = agent.select_action(s, noise=0.0)\n",
        "    s, r, terminated, truncated, info = env_eval.step(a)\n",
        "    done = terminated or truncated\n",
        "    tot += r\n",
        "    frame = env_eval.render()\n",
        "    frames.append(frame)\n",
        "print(\"Eval return:\", tot)\n",
        "env_eval.close()\n",
        "\n",
        "# Save GIF\n",
        "out_path = \"ddpg_eval.gif\"\n",
        "imageio.mimsave(out_path, frames, fps=30)\n",
        "print(\"Saved GIF to\", out_path)\n"
      ]
    },
    {
      "cell_type": "code",
      "execution_count": 46,
      "metadata": {
        "colab": {
          "base_uri": "https://localhost:8080/"
        },
        "id": "L2mvGZO8mmoT",
        "outputId": "99b11c2a-1ba8-4be7-ab32-506dd051f793"
      },
      "outputs": [
        {
          "name": "stdout",
          "output_type": "stream",
          "text": [
            "/content\n",
            "-rw-r--r-- 1 root root 165K Sep 15 15:16 ddpg_eval.gif\n"
          ]
        }
      ],
      "source": [
        "import os\n",
        "print(os.getcwd())\n",
        "!ls -lh ddpg_eval.gif\n"
      ]
    },
    {
      "cell_type": "code",
      "execution_count": 47,
      "metadata": {
        "colab": {
          "base_uri": "https://localhost:8080/",
          "height": 17
        },
        "id": "Q7rTnjfAmojt",
        "outputId": "edcb97aa-ca35-4a30-c9b1-f3c3508f8746"
      },
      "outputs": [
        {
          "data": {
            "application/javascript": "\n    async function download(id, filename, size) {\n      if (!google.colab.kernel.accessAllowed) {\n        return;\n      }\n      const div = document.createElement('div');\n      const label = document.createElement('label');\n      label.textContent = `Downloading \"${filename}\": `;\n      div.appendChild(label);\n      const progress = document.createElement('progress');\n      progress.max = size;\n      div.appendChild(progress);\n      document.body.appendChild(div);\n\n      const buffers = [];\n      let downloaded = 0;\n\n      const channel = await google.colab.kernel.comms.open(id);\n      // Send a message to notify the kernel that we're ready.\n      channel.send({})\n\n      for await (const message of channel.messages) {\n        // Send a message to notify the kernel that we're ready.\n        channel.send({})\n        if (message.buffers) {\n          for (const buffer of message.buffers) {\n            buffers.push(buffer);\n            downloaded += buffer.byteLength;\n            progress.value = downloaded;\n          }\n        }\n      }\n      const blob = new Blob(buffers, {type: 'application/binary'});\n      const a = document.createElement('a');\n      a.href = window.URL.createObjectURL(blob);\n      a.download = filename;\n      div.appendChild(a);\n      a.click();\n      div.remove();\n    }\n  ",
            "text/plain": [
              "<IPython.core.display.Javascript object>"
            ]
          },
          "metadata": {},
          "output_type": "display_data"
        },
        {
          "data": {
            "application/javascript": "download(\"download_0c8eae9f-2a7f-44c5-a00d-f3711755aa77\", \"ddpg_eval.gif\", 168783)",
            "text/plain": [
              "<IPython.core.display.Javascript object>"
            ]
          },
          "metadata": {},
          "output_type": "display_data"
        }
      ],
      "source": [
        "from google.colab import files\n",
        "files.download(\"ddpg_eval.gif\")\n"
      ]
    },
    {
      "cell_type": "code",
      "execution_count": 53,
      "metadata": {
        "id": "QP7-xjcB_C5K"
      },
      "outputs": [],
      "source": [
        "import numpy as np\n",
        "import random\n",
        "import torch\n",
        "import torch.nn as nn\n",
        "import torch.optim as optim\n",
        "import torch.nn.functional as F\n",
        "\n",
        "# ==============================\n",
        "# Replay Buffer\n",
        "# ==============================\n",
        "class ReplayBuffer:\n",
        "    def __init__(self, capacity=1000000):\n",
        "        self.capacity = capacity\n",
        "        self.buffer = []\n",
        "        self.position = 0\n",
        "\n",
        "    def push(self, state, action, reward, next_state, done):\n",
        "        if len(self.buffer) < self.capacity:\n",
        "            self.buffer.append(None)\n",
        "        self.buffer[self.position] = (state, action, reward, next_state, done)\n",
        "        self.position = (self.position + 1) % self.capacity\n",
        "\n",
        "    def sample(self, batch_size):\n",
        "        batch = random.sample(self.buffer, batch_size)\n",
        "        state, action, reward, next_state, done = map(np.stack, zip(*batch))\n",
        "        return (state, action, reward, next_state, done)\n",
        "\n",
        "    def __len__(self):\n",
        "        return len(self.buffer)\n",
        "\n",
        "# ==============================\n",
        "# Actor Network\n",
        "# ==============================\n",
        "class Actor(nn.Module):\n",
        "    def __init__(self, state_dim, action_dim, action_limit):\n",
        "        super(Actor, self).__init__()\n",
        "        self.fc1 = nn.Linear(state_dim, 400)\n",
        "        self.fc2 = nn.Linear(400, 300)\n",
        "        self.fc3 = nn.Linear(300, action_dim)\n",
        "        self.action_limit = action_limit\n",
        "\n",
        "    def forward(self, state):\n",
        "        x = F.relu(self.fc1(state))\n",
        "        x = F.relu(self.fc2(x))\n",
        "        return torch.tanh(self.fc3(x)) * self.action_limit\n",
        "\n",
        "# ==============================\n",
        "# Critic Network\n",
        "# ==============================\n",
        "class Critic(nn.Module):\n",
        "    def __init__(self, state_dim, action_dim):\n",
        "        super(Critic, self).__init__()\n",
        "        self.fc1 = nn.Linear(state_dim + action_dim, 400)\n",
        "        self.fc2 = nn.Linear(400, 300)\n",
        "        self.fc3 = nn.Linear(300, 1)\n",
        "\n",
        "    def forward(self, state, action):\n",
        "        x = torch.cat([state, action], dim=1)\n",
        "        x = F.relu(self.fc1(x))\n",
        "        x = F.relu(self.fc2(x))\n",
        "        return self.fc3(x)\n",
        "\n",
        "# ==============================\n",
        "# Ornstein-Uhlenbeck Noise\n",
        "# ==============================\n",
        "class OUNoise:\n",
        "    def __init__(self, action_dim, mu=0.0, theta=0.15, sigma=0.2):\n",
        "        self.action_dim = action_dim\n",
        "        self.mu = mu\n",
        "        self.theta = theta\n",
        "        self.sigma = sigma\n",
        "        self.state = np.ones(self.action_dim) * self.mu\n",
        "\n",
        "    def reset(self):\n",
        "        self.state = np.ones(self.action_dim) * self.mu\n",
        "\n",
        "    def sample(self):\n",
        "        dx = self.theta * (self.mu - self.state) + self.sigma * np.random.randn(self.action_dim)\n",
        "        self.state += dx\n",
        "        return self.state\n",
        "\n",
        "# ==============================\n",
        "# DDPG Agent\n",
        "# ==============================\n",
        "class DDPG:\n",
        "    def __init__(self, state_dim, action_dim, action_limit, gamma=0.99, tau=0.005, actor_lr=1e-4, critic_lr=1e-3):\n",
        "        self.device = torch.device(\"cuda\" if torch.cuda.is_available() else \"cpu\")\n",
        "\n",
        "        self.actor = Actor(state_dim, action_dim, action_limit).to(self.device)\n",
        "        self.actor_target = Actor(state_dim, action_dim, action_limit).to(self.device)\n",
        "        self.critic = Critic(state_dim, action_dim).to(self.device)\n",
        "        self.critic_target = Critic(state_dim, action_dim).to(self.device)\n",
        "\n",
        "        self.actor_target.load_state_dict(self.actor.state_dict())\n",
        "        self.critic_target.load_state_dict(self.critic.state_dict())\n",
        "\n",
        "        self.actor_optimizer = optim.Adam(self.actor.parameters(), lr=actor_lr)\n",
        "        self.critic_optimizer = optim.Adam(self.critic.parameters(), lr=critic_lr)\n",
        "\n",
        "        self.gamma = gamma\n",
        "        self.tau = tau\n",
        "        self.replay_buffer = ReplayBuffer(capacity=1000000)\n",
        "\n",
        "    def select_action(self, state, noise=None):\n",
        "        state_tensor = torch.FloatTensor(state).unsqueeze(0).to(self.device)\n",
        "        self.actor.eval()\n",
        "        with torch.no_grad():\n",
        "            action = self.actor(state_tensor).cpu().numpy()[0]\n",
        "        self.actor.train()\n",
        "        if noise is not None:\n",
        "            action = action + noise\n",
        "        return np.clip(action, -1.0, 1.0)\n",
        "\n",
        "    def train(self, batch_size=64):\n",
        "        if len(self.replay_buffer) < batch_size:\n",
        "            return\n",
        "\n",
        "        states, actions, rewards, next_states, dones = self.replay_buffer.sample(batch_size)\n",
        "\n",
        "        states = torch.FloatTensor(states).to(self.device)\n",
        "        actions = torch.FloatTensor(actions).to(self.device)\n",
        "        rewards = torch.FloatTensor(rewards).unsqueeze(1).to(self.device)\n",
        "        next_states = torch.FloatTensor(next_states).to(self.device)\n",
        "        dones = torch.FloatTensor(dones).unsqueeze(1).to(self.device)\n",
        "\n",
        "        # Critic loss\n",
        "        next_actions = self.actor_target(next_states)\n",
        "        target_q = self.critic_target(next_states, next_actions)\n",
        "        expected_q = rewards + self.gamma * (1 - dones) * target_q\n",
        "        current_q = self.critic(states, actions)\n",
        "        critic_loss = F.mse_loss(current_q, expected_q.detach())\n",
        "\n",
        "        self.critic_optimizer.zero_grad()\n",
        "        critic_loss.backward()\n",
        "        self.critic_optimizer.step()\n",
        "\n",
        "        # Actor loss\n",
        "        actor_loss = -self.critic(states, self.actor(states)).mean()\n",
        "\n",
        "        self.actor_optimizer.zero_grad()\n",
        "        actor_loss.backward()\n",
        "        self.actor_optimizer.step()\n",
        "\n",
        "        # Soft update\n",
        "        self.soft_update(self.actor, self.actor_target)\n",
        "        self.soft_update(self.critic, self.critic_target)\n",
        "\n",
        "    def soft_update(self, net, target_net):\n",
        "        for target_param, param in zip(target_net.parameters(), net.parameters()):\n",
        "            target_param.data.copy_(self.tau * param.data + (1 - self.tau) * target_param.data)\n"
      ]
    },
    {
      "cell_type": "code",
      "execution_count": 54,
      "metadata": {
        "colab": {
          "base_uri": "https://localhost:8080/"
        },
        "id": "vBg8E7P8_Fzk",
        "outputId": "9fca833d-9c79-48c3-9762-46353e1f740c"
      },
      "outputs": [
        {
          "name": "stdout",
          "output_type": "stream",
          "text": [
            "Episode 1 | Return: -564.92\n",
            "Episode 2 | Return: -931.74\n",
            "Episode 3 | Return: -726.76\n",
            "Episode 4 | Return: -886.60\n",
            "Episode 5 | Return: -707.91\n",
            "Episode 6 | Return: -488.82\n",
            "Episode 7 | Return: -501.86\n",
            "Episode 8 | Return: -516.01\n",
            "Episode 9 | Return: -235.31\n",
            "Episode 10 | Return: -413.54\n",
            "Episode 11 | Return: -167.68\n",
            "Episode 12 | Return: -278.13\n",
            "Episode 13 | Return: -255.86\n",
            "Episode 14 | Return: -274.42\n",
            "Episode 15 | Return: -341.61\n",
            "Episode 16 | Return: -212.41\n",
            "Episode 17 | Return: -278.06\n",
            "Episode 18 | Return: -184.70\n",
            "Episode 19 | Return: -235.10\n",
            "Episode 20 | Return: -220.58\n",
            "Episode 21 | Return: -267.65\n",
            "Episode 22 | Return: -181.43\n",
            "Episode 23 | Return: -224.03\n",
            "Episode 24 | Return: -398.78\n",
            "Episode 25 | Return: -288.24\n",
            "Episode 26 | Return: -134.72\n",
            "Episode 27 | Return: -365.45\n",
            "Episode 28 | Return: -206.77\n",
            "Episode 29 | Return: -250.80\n",
            "Episode 30 | Return: -173.45\n",
            "Episode 31 | Return: -116.26\n",
            "Episode 32 | Return: -151.64\n",
            "Episode 33 | Return: -206.88\n",
            "Episode 34 | Return: -209.79\n",
            "Episode 35 | Return: -194.87\n",
            "Episode 36 | Return: -219.05\n",
            "Episode 37 | Return: -208.44\n",
            "Episode 38 | Return: -207.92\n",
            "Episode 39 | Return: -212.37\n",
            "Episode 40 | Return: -294.43\n",
            "Episode 41 | Return: -312.85\n",
            "Episode 42 | Return: -302.40\n",
            "Episode 43 | Return: -215.69\n",
            "Episode 44 | Return: -237.98\n",
            "Episode 45 | Return: -217.81\n",
            "Episode 46 | Return: -212.64\n",
            "Episode 47 | Return: -170.25\n",
            "Episode 48 | Return: -186.32\n",
            "Episode 49 | Return: -183.61\n",
            "Episode 50 | Return: -234.96\n",
            "Episode 51 | Return: -187.09\n",
            "Episode 52 | Return: -203.21\n",
            "Episode 53 | Return: -88.10\n",
            "Episode 54 | Return: -176.08\n",
            "Episode 55 | Return: -193.46\n",
            "Episode 56 | Return: -251.49\n",
            "Episode 57 | Return: -150.34\n",
            "Episode 58 | Return: -150.27\n",
            "Episode 59 | Return: -319.18\n",
            "Episode 60 | Return: -127.94\n",
            "Episode 61 | Return: -175.70\n",
            "Episode 62 | Return: -133.10\n",
            "Episode 63 | Return: -164.45\n",
            "Episode 64 | Return: -109.12\n",
            "Episode 65 | Return: -93.34\n",
            "Episode 66 | Return: -24.39\n",
            "Episode 67 | Return: -38.48\n",
            "Episode 68 | Return: -171.76\n",
            "Episode 69 | Return: -168.89\n",
            "Episode 70 | Return: -3.28\n",
            "Episode 71 | Return: -187.51\n",
            "Episode 72 | Return: -151.20\n",
            "Episode 73 | Return: -181.87\n",
            "Episode 74 | Return: -182.37\n",
            "Episode 75 | Return: -60.59\n",
            "Episode 76 | Return: -104.42\n",
            "Episode 77 | Return: -71.69\n",
            "Episode 78 | Return: -159.07\n",
            "Episode 79 | Return: -113.15\n",
            "Episode 80 | Return: -90.79\n",
            "Episode 81 | Return: -144.98\n",
            "Episode 82 | Return: -147.15\n",
            "Episode 83 | Return: -153.97\n",
            "Episode 84 | Return: -101.28\n",
            "Episode 85 | Return: -111.00\n",
            "Episode 86 | Return: -133.61\n",
            "Episode 87 | Return: -142.77\n",
            "Episode 88 | Return: -112.61\n",
            "Episode 89 | Return: -116.12\n",
            "Episode 90 | Return: -102.69\n",
            "Episode 91 | Return: -125.62\n",
            "Episode 92 | Return: -123.09\n",
            "Episode 93 | Return: -158.36\n",
            "Episode 94 | Return: -165.06\n",
            "Episode 95 | Return: -142.61\n",
            "Episode 96 | Return: -107.29\n",
            "Episode 97 | Return: -143.10\n",
            "Episode 98 | Return: -104.39\n",
            "Episode 99 | Return: -139.54\n",
            "Episode 100 | Return: -137.25\n",
            "Episode 101 | Return: -140.12\n",
            "Episode 102 | Return: -125.40\n",
            "Episode 103 | Return: -203.68\n",
            "Episode 104 | Return: -156.12\n",
            "Episode 105 | Return: -103.27\n",
            "Episode 106 | Return: -137.18\n",
            "Episode 107 | Return: -100.62\n",
            "Episode 108 | Return: -213.69\n",
            "Episode 109 | Return: -177.45\n",
            "Episode 110 | Return: -83.39\n",
            "Episode 111 | Return: -128.51\n",
            "Episode 112 | Return: -80.34\n",
            "Episode 113 | Return: -177.77\n",
            "Episode 114 | Return: -226.25\n",
            "Episode 115 | Return: -177.94\n",
            "Episode 116 | Return: -223.26\n",
            "Episode 117 | Return: -180.28\n",
            "Episode 118 | Return: -174.20\n",
            "Episode 119 | Return: -223.68\n",
            "Episode 120 | Return: -298.57\n",
            "Episode 121 | Return: -189.53\n",
            "Episode 122 | Return: -129.73\n",
            "Episode 123 | Return: -289.25\n",
            "Episode 124 | Return: -258.03\n",
            "Episode 125 | Return: -246.61\n",
            "Episode 126 | Return: -186.58\n",
            "Episode 127 | Return: -323.44\n",
            "Episode 128 | Return: -207.97\n",
            "Episode 129 | Return: -299.98\n",
            "Episode 130 | Return: -158.03\n",
            "Episode 131 | Return: -295.44\n",
            "Episode 132 | Return: -324.39\n",
            "Episode 133 | Return: -183.22\n",
            "Episode 134 | Return: -95.60\n",
            "Episode 135 | Return: -154.90\n",
            "Episode 136 | Return: -300.43\n",
            "Episode 137 | Return: -113.21\n",
            "Episode 138 | Return: -103.74\n",
            "Episode 139 | Return: -101.58\n",
            "Episode 140 | Return: -50.44\n",
            "Episode 141 | Return: -72.42\n",
            "Episode 142 | Return: -85.08\n",
            "Episode 143 | Return: -90.58\n",
            "Episode 144 | Return: -73.56\n",
            "Episode 145 | Return: -62.88\n",
            "Episode 146 | Return: -229.60\n",
            "Episode 147 | Return: -230.79\n",
            "Episode 148 | Return: -142.20\n",
            "Episode 149 | Return: -158.65\n",
            "Episode 150 | Return: -62.13\n",
            "Episode 151 | Return: -141.22\n",
            "Episode 152 | Return: -79.96\n",
            "Episode 153 | Return: -92.24\n",
            "Episode 154 | Return: -131.84\n",
            "Episode 155 | Return: -173.00\n",
            "Episode 156 | Return: -86.07\n",
            "Episode 157 | Return: -60.42\n",
            "Episode 158 | Return: -24.36\n",
            "Episode 159 | Return: -12.58\n",
            "Episode 160 | Return: -30.27\n",
            "Episode 161 | Return: -118.89\n",
            "Episode 162 | Return: -70.70\n",
            "Episode 163 | Return: -2.29\n",
            "Episode 164 | Return: -14.36\n",
            "Episode 165 | Return: 22.42\n",
            "Episode 166 | Return: -32.79\n",
            "Episode 167 | Return: -4.66\n",
            "Episode 168 | Return: -94.46\n",
            "Episode 169 | Return: -41.79\n",
            "Episode 170 | Return: -248.08\n",
            "Episode 171 | Return: -34.17\n",
            "Episode 172 | Return: -29.28\n",
            "Episode 173 | Return: -60.78\n",
            "Episode 174 | Return: -199.91\n",
            "Episode 175 | Return: 20.00\n",
            "Episode 176 | Return: -0.41\n",
            "Episode 177 | Return: 15.88\n",
            "Episode 178 | Return: -21.76\n",
            "Episode 179 | Return: -18.49\n",
            "Episode 180 | Return: -18.88\n",
            "Episode 181 | Return: -15.43\n",
            "Episode 182 | Return: -65.85\n",
            "Episode 183 | Return: -15.32\n",
            "Episode 184 | Return: -63.58\n",
            "Episode 185 | Return: -28.34\n",
            "Episode 186 | Return: -14.46\n",
            "Episode 187 | Return: -16.53\n",
            "Episode 188 | Return: -102.50\n",
            "Episode 189 | Return: -54.85\n",
            "Episode 190 | Return: -53.96\n",
            "Episode 191 | Return: -78.59\n",
            "Episode 192 | Return: -69.78\n",
            "Episode 193 | Return: -47.95\n",
            "Episode 194 | Return: -32.80\n",
            "Episode 195 | Return: -17.00\n",
            "Episode 196 | Return: -25.78\n",
            "Episode 197 | Return: -57.10\n",
            "Episode 198 | Return: -14.83\n",
            "Episode 199 | Return: -19.95\n",
            "Episode 200 | Return: -9.10\n"
          ]
        }
      ],
      "source": [
        "import gymnasium as gym\n",
        "\n",
        "env = gym.make(\"LunarLanderContinuous-v3\")\n",
        "state_dim = env.observation_space.shape[0]\n",
        "action_dim = env.action_space.shape[0]\n",
        "action_limit = float(env.action_space.high[0])\n",
        "\n",
        "agent = DDPG(state_dim, action_dim, action_limit)\n",
        "ou_noise = OUNoise(action_dim)\n",
        "\n",
        "episodes = 200\n",
        "for ep in range(episodes):\n",
        "    state, _ = env.reset()\n",
        "    ou_noise.reset()\n",
        "    ep_return = 0\n",
        "\n",
        "    done = False\n",
        "    while not done:\n",
        "        noise = ou_noise.sample() * max(0.1, 1.0 - ep/episodes)\n",
        "        action = agent.select_action(state, noise=noise)\n",
        "        next_state, reward, terminated, truncated, _ = env.step(action)\n",
        "        done = terminated or truncated\n",
        "\n",
        "        agent.replay_buffer.push(state, action, reward, next_state, done)\n",
        "        agent.train(batch_size=64)\n",
        "\n",
        "        state = next_state\n",
        "        ep_return += reward\n",
        "\n",
        "    print(f\"Episode {ep+1} | Return: {ep_return:.2f}\")\n"
      ]
    },
    {
      "cell_type": "code",
      "execution_count": 55,
      "metadata": {
        "id": "BHWADE7sHg-E"
      },
      "outputs": [],
      "source": [
        "import gymnasium as gym\n",
        "\n",
        "class ShapedLunarLander(gym.Wrapper):\n",
        "    def __init__(self, env):\n",
        "        super().__init__(env)\n",
        "\n",
        "    def step(self, action):\n",
        "        state, reward, terminated, truncated, info = self.env.step(action)\n",
        "\n",
        "        # --- Reward Shaping ---\n",
        "        x, y, vx, vy, angle, angular_vel, left_leg, right_leg = state\n",
        "\n",
        "        shaped_reward = reward\n",
        "\n",
        "        # Positive reward for legs touching ground\n",
        "        shaped_reward += 10.0 * (left_leg + right_leg)\n",
        "\n",
        "        # Negative reward for tilting too much\n",
        "        shaped_reward -= 5.0 * (abs(angle) > 0.4)\n",
        "\n",
        "        # Efficiency reward: small penalty for using too much thrust\n",
        "        shaped_reward -= 0.1 * np.square(action).sum()\n",
        "\n",
        "        info[\"shaped_reward\"] = shaped_reward\n",
        "        return state, shaped_reward, terminated, truncated, info\n"
      ]
    },
    {
      "cell_type": "code",
      "execution_count": 56,
      "metadata": {
        "id": "KQPDOdJKH2bR"
      },
      "outputs": [],
      "source": [
        "env = ShapedLunarLander(gym.make(\"LunarLanderContinuous-v3\"))\n"
      ]
    },
    {
      "cell_type": "code",
      "execution_count": 57,
      "metadata": {
        "colab": {
          "base_uri": "https://localhost:8080/",
          "height": 1000
        },
        "id": "hyBxJ6FjH6uN",
        "outputId": "36846c2a-279f-4e17-f5cf-624c7f384f07"
      },
      "outputs": [
        {
          "name": "stdout",
          "output_type": "stream",
          "text": [
            "Episode 1 | Return: -125.41\n",
            "Episode 2 | Return: -146.17\n",
            "Episode 3 | Return: -182.83\n",
            "Episode 4 | Return: -170.63\n",
            "Episode 5 | Return: -140.57\n",
            "Episode 6 | Return: -192.43\n",
            "Episode 7 | Return: -156.74\n",
            "Episode 8 | Return: -146.57\n",
            "Episode 9 | Return: -306.14\n",
            "Episode 10 | Return: -153.49\n",
            "Episode 11 | Return: -361.36\n",
            "Episode 12 | Return: -262.71\n",
            "Episode 13 | Return: -317.07\n",
            "Episode 14 | Return: -230.60\n",
            "Episode 15 | Return: -359.35\n",
            "Episode 16 | Return: -335.51\n",
            "Episode 17 | Return: 2819.73\n",
            "Episode 18 | Return: -147.53\n",
            "Episode 19 | Return: -264.12\n",
            "Episode 20 | Return: 151.43\n",
            "Episode 21 | Return: -336.68\n",
            "Episode 22 | Return: -934.57\n",
            "Episode 23 | Return: -1103.61\n",
            "Episode 24 | Return: -114.15\n",
            "Episode 25 | Return: -112.44\n",
            "Episode 26 | Return: -352.78\n",
            "Episode 27 | Return: -133.97\n",
            "Episode 28 | Return: -116.48\n",
            "Episode 29 | Return: -165.13\n",
            "Episode 30 | Return: -141.50\n",
            "Episode 31 | Return: -159.31\n",
            "Episode 32 | Return: -164.40\n",
            "Episode 33 | Return: -139.61\n",
            "Episode 34 | Return: -158.96\n",
            "Episode 35 | Return: -200.31\n",
            "Episode 36 | Return: -122.39\n",
            "Episode 37 | Return: -36.61\n",
            "Episode 38 | Return: 65.24\n",
            "Episode 39 | Return: -113.42\n",
            "Episode 40 | Return: -124.58\n",
            "Episode 41 | Return: -134.52\n",
            "Episode 42 | Return: -176.27\n",
            "Episode 43 | Return: -196.14\n",
            "Episode 44 | Return: -126.46\n",
            "Episode 45 | Return: -161.86\n",
            "Episode 46 | Return: -105.68\n",
            "Episode 47 | Return: -157.79\n",
            "Episode 48 | Return: 4736.98\n",
            "Episode 49 | Return: -240.43\n",
            "Episode 50 | Return: 1961.09\n",
            "Episode 51 | Return: -78.86\n",
            "Episode 52 | Return: -72.06\n",
            "Episode 53 | Return: -46.46\n",
            "Episode 54 | Return: -145.48\n",
            "Episode 55 | Return: -164.70\n",
            "Episode 56 | Return: 465.71\n",
            "Episode 57 | Return: -53.84\n",
            "Episode 58 | Return: -147.96\n",
            "Episode 59 | Return: -10.54\n",
            "Episode 60 | Return: 8002.81\n",
            "Episode 61 | Return: 1427.21\n",
            "Episode 62 | Return: -61.65\n",
            "Episode 63 | Return: -453.09\n",
            "Episode 64 | Return: 4212.75\n",
            "Episode 65 | Return: 4552.47\n",
            "Episode 66 | Return: -552.68\n",
            "Episode 67 | Return: 358.79\n",
            "Episode 68 | Return: -346.25\n",
            "Episode 69 | Return: -420.09\n",
            "Episode 70 | Return: -124.81\n",
            "Episode 71 | Return: -338.96\n",
            "Episode 72 | Return: -346.49\n",
            "Episode 73 | Return: -399.59\n",
            "Episode 74 | Return: 25.33\n",
            "Episode 75 | Return: -71.88\n",
            "Episode 76 | Return: -310.59\n",
            "Episode 77 | Return: -394.35\n",
            "Episode 78 | Return: -286.41\n",
            "Episode 79 | Return: 89.19\n",
            "Episode 80 | Return: -282.91\n",
            "Episode 81 | Return: 11.29\n",
            "Episode 82 | Return: -22.29\n",
            "Episode 83 | Return: -103.53\n",
            "Episode 84 | Return: -114.68\n",
            "Episode 85 | Return: -27.17\n",
            "Episode 86 | Return: -317.43\n",
            "Episode 87 | Return: -82.56\n",
            "Episode 88 | Return: -109.92\n",
            "Episode 89 | Return: -66.59\n",
            "Episode 90 | Return: -28.19\n",
            "Episode 91 | Return: 7886.25\n",
            "Episode 92 | Return: -19.99\n",
            "Episode 93 | Return: -76.33\n",
            "Episode 94 | Return: 4.85\n",
            "Episode 95 | Return: -95.90\n",
            "Episode 96 | Return: -75.97\n",
            "Episode 97 | Return: -42.17\n",
            "Episode 98 | Return: -100.33\n",
            "Episode 99 | Return: -100.64\n",
            "Episode 100 | Return: -47.85\n",
            "Episode 101 | Return: -132.75\n",
            "Episode 102 | Return: -96.10\n",
            "Episode 103 | Return: -101.24\n",
            "Episode 104 | Return: -168.11\n",
            "Episode 105 | Return: -148.73\n",
            "Episode 106 | Return: -72.11\n",
            "Episode 107 | Return: -66.40\n",
            "Episode 108 | Return: -79.74\n",
            "Episode 109 | Return: -137.42\n",
            "Episode 110 | Return: -140.72\n",
            "Episode 111 | Return: -161.72\n",
            "Episode 112 | Return: -142.25\n",
            "Episode 113 | Return: -47.58\n",
            "Episode 114 | Return: -156.42\n",
            "Episode 115 | Return: -65.07\n",
            "Episode 116 | Return: -75.80\n",
            "Episode 117 | Return: -131.21\n",
            "Episode 118 | Return: -62.66\n",
            "Episode 119 | Return: -43.02\n",
            "Episode 120 | Return: -131.63\n",
            "Episode 121 | Return: -143.68\n",
            "Episode 122 | Return: -101.38\n",
            "Episode 123 | Return: 1.10\n",
            "Episode 124 | Return: -73.00\n",
            "Episode 125 | Return: -173.52\n",
            "Episode 126 | Return: -173.22\n",
            "Episode 127 | Return: -152.41\n",
            "Episode 128 | Return: -107.02\n",
            "Episode 129 | Return: -68.95\n",
            "Episode 130 | Return: -121.42\n",
            "Episode 131 | Return: -48.59\n",
            "Episode 132 | Return: -84.95\n",
            "Episode 133 | Return: 110.56\n",
            "Episode 134 | Return: -86.50\n",
            "Episode 135 | Return: -59.44\n",
            "Episode 136 | Return: -77.72\n",
            "Episode 137 | Return: -99.01\n",
            "Episode 138 | Return: 144.34\n",
            "Episode 139 | Return: -41.71\n",
            "Episode 140 | Return: -91.35\n",
            "Episode 141 | Return: -76.09\n",
            "Episode 142 | Return: 81.67\n",
            "Episode 143 | Return: 45.68\n",
            "Episode 144 | Return: -266.40\n",
            "Episode 145 | Return: 5.77\n",
            "Episode 146 | Return: 36.92\n",
            "Episode 147 | Return: 24.82\n",
            "Episode 148 | Return: 80.65\n",
            "Episode 149 | Return: -101.81\n",
            "Episode 150 | Return: 4255.77\n",
            "Episode 151 | Return: -68.65\n",
            "Episode 152 | Return: 46.23\n",
            "Episode 153 | Return: -69.85\n",
            "Episode 154 | Return: 8150.44\n",
            "Episode 155 | Return: -6.36\n",
            "Episode 156 | Return: -163.20\n",
            "Episode 157 | Return: 835.64\n",
            "Episode 158 | Return: -430.27\n",
            "Episode 159 | Return: -139.02\n",
            "Episode 160 | Return: 26.05\n",
            "Episode 161 | Return: 5519.79\n",
            "Episode 162 | Return: -653.46\n",
            "Episode 163 | Return: 276.25\n",
            "Episode 164 | Return: -49.03\n",
            "Episode 165 | Return: -43.76\n",
            "Episode 166 | Return: -35.67\n",
            "Episode 167 | Return: 66.88\n",
            "Episode 168 | Return: -70.89\n",
            "Episode 169 | Return: 11465.80\n",
            "Episode 170 | Return: 137.94\n",
            "Episode 171 | Return: -218.17\n",
            "Episode 172 | Return: 1176.72\n",
            "Episode 173 | Return: 537.24\n",
            "Episode 174 | Return: -231.19\n",
            "Episode 175 | Return: -201.51\n",
            "Episode 176 | Return: -71.24\n",
            "Episode 177 | Return: -341.45\n",
            "Episode 178 | Return: -235.73\n",
            "Episode 179 | Return: 32.79\n",
            "Episode 180 | Return: -225.93\n",
            "Episode 181 | Return: 89.57\n",
            "Episode 182 | Return: -328.65\n",
            "Episode 183 | Return: 347.28\n",
            "Episode 184 | Return: 7345.14\n",
            "Episode 185 | Return: -249.84\n",
            "Episode 186 | Return: -66.93\n",
            "Episode 187 | Return: -22.61\n",
            "Episode 188 | Return: -6.77\n",
            "Episode 189 | Return: 89.19\n",
            "Episode 190 | Return: 3181.13\n",
            "Episode 191 | Return: 3004.08\n",
            "Episode 192 | Return: 1567.37\n",
            "Episode 193 | Return: 2954.16\n",
            "Episode 194 | Return: -14.80\n",
            "Episode 195 | Return: 2036.35\n",
            "Episode 196 | Return: 5841.42\n",
            "Episode 197 | Return: 3219.31\n",
            "Episode 198 | Return: -362.06\n",
            "Episode 199 | Return: 5014.61\n",
            "Episode 200 | Return: 8.75\n"
          ]
        },
        {
          "data": {
            "image/png": "[encoded data removed]",
            "text/plain": [
              "<Figure size 640x480 with 1 Axes>"
            ]
          },
          "metadata": {},
          "output_type": "display_data"
        }
      ],
      "source": [
        "returns = []\n",
        "\n",
        "for ep in range(episodes):\n",
        "    state, _ = env.reset()\n",
        "    ep_return = 0\n",
        "    done = False\n",
        "\n",
        "    while not done:\n",
        "        action = agent.select_action(state, noise=ou_noise.sample())\n",
        "        next_state, reward, terminated, truncated, _ = env.step(action)\n",
        "        done = terminated or truncated\n",
        "        agent.replay_buffer.push(state, action, reward, next_state, done)\n",
        "        agent.train(64)\n",
        "        state = next_state\n",
        "        ep_return += reward\n",
        "\n",
        "    returns.append(ep_return)\n",
        "    print(f\"Episode {ep+1} | Return: {ep_return:.2f}\")\n",
        "\n",
        "# Plot learning curve\n",
        "import matplotlib.pyplot as plt\n",
        "plt.plot(returns, label=\"Episode Return\")\n",
        "plt.xlabel(\"Episode\")\n",
        "plt.ylabel(\"Return\")\n",
        "plt.title(\"DDPG Learning Curve with Reward Shaping\")\n",
        "plt.legend()\n",
        "plt.show()\n"
      ]
    }
  ],
  "metadata": {
    "colab": {
      "provenance": []
    },
    "kernelspec": {
      "display_name": "Python 3",
      "name": "python3"
    },
    "language_info": {
      "name": "python"
    }
  },
  "nbformat": 4,
  "nbformat_minor": 0
}
